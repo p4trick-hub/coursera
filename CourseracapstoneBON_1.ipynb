{
 "cells": [
  {
   "cell_type": "markdown",
   "metadata": {},
   "source": [
    "# Battle of Neighbourhoods"
   ]
  },
  {
   "cell_type": "markdown",
   "metadata": {},
   "source": [
    "## Review: Distribution Centres\n",
    "\n",
    "Distribution and efficient supply chain network is the backbone of any retail industry business. It is a principal part, the order processing element, of the entire order fulfilment process. Distribution centres are usually thought of as being demand driven. Distribution centres are the foundation of a supply network, as they allow a single location to stock a vast number of products. Some organizations operate both retail distribution and direct-to-consumer out of a single facility, sharing space, equipment, labour resources, and inventory as applicable. A typical retail distribution network operates with centres set up throughout a commercial market, with each centre serving a number of stores. Large distribution centres for companies such as Wal-Mart serve 50–125 stores. Suppliers ship truckload of products to the distribution centre, which stores the product until needed by the retail location and ships the proper quantity. Since a large retailer might sell tens of thousands of products from thousands of vendors, it would be impossibly inefficient to ship each product directly from each vendor to each store. Many retailers own and run their own distribution networks, while smaller retailers may outsource this function to dedicated logistics firms that coordinate the distribution of products for a number of companies."
   ]
  },
  {
   "cell_type": "markdown",
   "metadata": {},
   "source": [
    "## Business Problem and Objective\n",
    "\n",
    "A retail firm seeks to expand its business in Kuala Lumpur, Malaysia. The objective is therefore, to select the best venue to open up a distribution centre. Although there are many parameters which define a best location, this report will cover the shopping mall distribution frequency using data clustering."
   ]
  },
  {
   "cell_type": "markdown",
   "metadata": {},
   "source": [
    "## Reason for choosing this project\n",
    "\n",
    "Since 2016, there has been a significant concern for the oversupply of retail space and failed shopping centres in the world. Brick and mortar centres are replaced by e-commerce businesses. Since 2016, there has been a significant concern for the oversupply of retail space and failed shopping centres in the world. Brick and mortar centres are replaced by e-commerce businesses. In the current scenario, it thus becomes all the more important to enter into retail business with careful scrutiny and a clear picture of the market. The country of 30 million is expected to have close to 700 malls by the end of 2019. Analysts have voiced concern they are fighting a losing battle; that the double-whammy of rising e-commerce and an uncertain economic outlook will be enough to land them in dire straits permanently. But Malaysia’s malls aren’t giving up without a fight – and with another 140 in planning to be built nationwide – they realise they need to get creative if they want to hold on to customers. In the current scenario, it thus becomes all the more important to enter into retail business with careful scrutiny and a clear picture of the market. "
   ]
  },
  {
   "cell_type": "code",
   "execution_count": null,
   "metadata": {},
   "outputs": [],
   "source": []
  }
 ],
 "metadata": {
  "kernelspec": {
   "display_name": "Python 3",
   "language": "python",
   "name": "python3"
  },
  "language_info": {
   "codemirror_mode": {
    "name": "ipython",
    "version": 3
   },
   "file_extension": ".py",
   "mimetype": "text/x-python",
   "name": "python",
   "nbconvert_exporter": "python",
   "pygments_lexer": "ipython3",
   "version": "3.6.8"
  }
 },
 "nbformat": 4,
 "nbformat_minor": 2
}
